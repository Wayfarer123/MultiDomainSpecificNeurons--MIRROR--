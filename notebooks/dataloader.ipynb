{
 "cells": [
  {
   "cell_type": "code",
   "execution_count": null,
   "metadata": {},
   "outputs": [],
   "source": [
    "from torch.utils.data.datasets import DataLoader\n",
    "from src.dataloaders.ccmatrix_pair_dataset import CCMatrixPairDataset, collate_fn"
   ]
  },
  {
   "cell_type": "code",
   "execution_count": null,
   "metadata": {},
   "outputs": [],
   "source": [
    "dataset = CCMatrixPairDataset(language_pair='en-ru')\n",
    "data_loader = DataLoader(\n",
    "    iter(dataset.data['train']),  \n",
    "    batch_size=16,\n",
    "    collate_fn=collate_fn\n",
    ")\n",
    "\n",
    "for batch_idx, (sentences1, sentences2) in enumerate(data_loader):\n",
    "    print(f\"Batch {batch_idx}\")\n",
    "    print(\"Sentences1:\", sentences1)\n",
    "    print(\"Sentences2:\", sentences2)\n",
    "    break \n"
   ]
  }
 ],
 "metadata": {
  "language_info": {
   "name": "python"
  }
 },
 "nbformat": 4,
 "nbformat_minor": 2
}
