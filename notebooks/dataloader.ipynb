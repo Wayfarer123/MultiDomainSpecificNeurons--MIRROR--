{
 "cells": [
  {
   "cell_type": "code",
   "execution_count": 8,
   "metadata": {},
   "outputs": [
    {
     "name": "stdout",
     "output_type": "stream",
     "text": [
      "The autoreload extension is already loaded. To reload it, use:\n",
      "  %reload_ext autoreload\n"
     ]
    }
   ],
   "source": [
    "from torch.utils.data import DataLoader,IterableDataset\n",
    "from datasets import load_dataset\n",
    "\n",
    "from transformers import AutoModel, AutoTokenizer\n",
    "import torch\n",
    "import os\n",
    "os.environ['CUDA_VISIBLE_DEVICES']='0'\n",
    "from torch import nn\n",
    "from copy import deepcopy\n",
    "import numpy as np\n",
    "import gc\n",
    "\n",
    "from tqdm.auto import tqdm\n",
    "%load_ext autoreload\n",
    "%autoreload 2\n",
    "    \n",
    "\n",
    "import sys\n",
    "\n",
    "src_path = os.path.abspath(os.path.join('..', 'src'))\n",
    "if src_path not in sys.path:\n",
    "    sys.path.append(src_path)\n",
    "\n",
    "from utils import convert_to_Qwen2_ND, detect_domain_specific_neurons,impacts_on, Collator, get_all_dsn"
   ]
  },
  {
   "cell_type": "code",
   "execution_count": 2,
   "metadata": {},
   "outputs": [],
   "source": [
    "qwen_path = \"D:\\models\\Qwen2.5-1.5B\"\n",
    "\n",
    "qwen = AutoModel.from_pretrained(qwen_path, torch_dtype=torch.bfloat16)\n",
    "tokenizer = AutoTokenizer.from_pretrained(qwen_path)"
   ]
  },
  {
   "cell_type": "code",
   "execution_count": 3,
   "metadata": {},
   "outputs": [],
   "source": [
    "qwen = convert_to_Qwen2_ND(qwen).to(\"cuda\")\n",
    "qwen.eval();"
   ]
  },
  {
   "cell_type": "code",
   "execution_count": 4,
   "metadata": {},
   "outputs": [],
   "source": [
    "collator = Collator(tokenizer)\n",
    "dataset = load_dataset('yhavinga/ccmatrix', \"en-ru\", split='train', streaming=True, trust_remote_code=True)\n",
    "data_loader = DataLoader(\n",
    "    dataset,\n",
    "    batch_size=2,\n",
    "    shuffle=False,\n",
    "    collate_fn = collator,\n",
    "    batch_sampler=None \n",
    ")"
   ]
  },
  {
   "cell_type": "code",
   "execution_count": 5,
   "metadata": {},
   "outputs": [],
   "source": [
    "# for elems in data_loader:\n",
    "#     print(elems)\n",
    "#     break"
   ]
  },
  {
   "cell_type": "code",
   "execution_count": 6,
   "metadata": {},
   "outputs": [
    {
     "data": {
      "application/vnd.jupyter.widget-view+json": {
       "model_id": "f800717415d049568c4aabfe0d68bc24",
       "version_major": 2,
       "version_minor": 0
      },
      "text/plain": [
       "  0%|          | 0/100 [00:00<?, ?it/s]"
      ]
     },
     "metadata": {},
     "output_type": "display_data"
    },
    {
     "name": "stderr",
     "output_type": "stream",
     "text": [
      "We detected that you are passing `past_key_values` as a tuple and this is deprecated and will be removed in v4.43. Please use an appropriate `Cache` class (https://huggingface.co/docs/transformers/v4.41.3/en/internal/generation_utils#transformers.Cache)\n",
      "d:\\Desktop\\9сем\\CreationOfIntelligentSystems_Multilingual_Interpretability\\src\\modules.py:183: UserWarning: 1Torch was not compiled with flash attention. (Triggered internally at C:\\actions-runner\\_work\\pytorch\\pytorch\\builder\\windows\\pytorch\\aten\\src\\ATen\\native\\transformers\\cuda\\sdp_utils.cpp:555.)\n",
      "  attn_output = torch.nn.functional.scaled_dot_product_attention(\n"
     ]
    }
   ],
   "source": [
    "qwen, output = detect_domain_specific_neurons(\n",
    "    qwen,\n",
    "    tokenizer,\n",
    "    dataloader=data_loader,\n",
    "    eps=1e-1,\n",
    "    domain_name=\"eng\", \n",
    "    reset_impacts=False,\n",
    "    reset_dsn=True,\n",
    "    num_elements=100\n",
    ")"
   ]
  },
  {
   "cell_type": "code",
   "execution_count": 10,
   "metadata": {},
   "outputs": [],
   "source": [
    "all_dsn = get_all_dsn(qwen)"
   ]
  },
  {
   "cell_type": "code",
   "execution_count": 11,
   "metadata": {},
   "outputs": [
    {
     "data": {
      "text/plain": [
       "{'mlp': {'eng': {'up_proj': tensor([ True, False, False,  ..., False,  True, False], device='cuda:0'),\n",
       "   'down_proj': tensor([ True, False, False,  ..., False,  True, False], device='cuda:0')}},\n",
       " 'attn': {'eng': {'q_proj': tensor([[False, False, False,  ...,  True,  True,  True],\n",
       "           [False, False, False,  ..., False, False, False],\n",
       "           [False, False,  True,  ...,  True,  True,  True],\n",
       "           ...,\n",
       "           [False, False, False,  ...,  True,  True,  True],\n",
       "           [False, False, False,  ..., False, False, False],\n",
       "           [ True,  True,  True,  ..., False, False, False]], device='cuda:0'),\n",
       "   'k_proj': tensor([[False, False, False,  ...,  True,  True,  True],\n",
       "           [False, False, False,  ..., False, False, False],\n",
       "           [False, False,  True,  ...,  True,  True,  True],\n",
       "           ...,\n",
       "           [False, False, False,  ...,  True,  True,  True],\n",
       "           [False, False, False,  ..., False, False, False],\n",
       "           [ True,  True,  True,  ..., False, False, False]], device='cuda:0')}}}"
      ]
     },
     "execution_count": 11,
     "metadata": {},
     "output_type": "execute_result"
    }
   ],
   "source": [
    "all_dsn[0]"
   ]
  }
 ],
 "metadata": {
  "kernelspec": {
   "display_name": "DL",
   "language": "python",
   "name": "python3"
  },
  "language_info": {
   "codemirror_mode": {
    "name": "ipython",
    "version": 3
   },
   "file_extension": ".py",
   "mimetype": "text/x-python",
   "name": "python",
   "nbconvert_exporter": "python",
   "pygments_lexer": "ipython3",
   "version": "3.11.9"
  }
 },
 "nbformat": 4,
 "nbformat_minor": 4
}
